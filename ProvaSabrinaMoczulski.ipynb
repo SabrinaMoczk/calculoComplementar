{
 "cells": [
  {
   "cell_type": "markdown",
   "metadata": {
    "colab_type": "text",
    "id": "X8g6Mu4ZPjrW"
   },
   "source": [
    "# Prova de cálculo complementar\n",
    "\n",
    "**Universidade Federal da Fronteira Sul**\n",
    "\n",
    "Sabrina Moczulski"
   ]
  },
  {
   "cell_type": "markdown",
   "metadata": {
    "colab_type": "text",
    "id": "JmT6gdn3PxQF"
   },
   "source": [
    "# Questão 1\n",
    "\n",
    " Estima-se que a produção semanal de uma fábrica é dada pela função f(x,y) = 1.200x+ 500y+ x^2 y – x^3 – y^2 unidades, onde x é o número de operários\n",
    "especializados e y o número de operários não especializados utilizados no trabalho. No momento, a mão de obra disponível é constituída por 30 operários especializados e 60 operários não especializados. Use a análise marginal para estimar a variação da\n",
    "produção se mais 1 operário especializado for contratado e o número de operários não especializado permanecer constante.\n",
    "\n",
    "**Compreender o problema:**\n",
    "\n",
    "• Através da leitura do problema extrair os dados e elementos desconhecidos.\n",
    "\n",
    "◦ Análise Marginal: em economia se refere ao uso de uma derivada para estimar\n",
    "a variação do valor de uma função em consequência de uma mudança no valor\n",
    "de uma das variáveis.\n",
    "\n",
    "◦ Taxa de Variação: calcular a função com uma das variáveis enquanto a outra\n",
    "permanece constante, o que corresponde a derivar a função em relação a uma\n",
    "das variáveis mantendo fixa a outra variável. Este processo é conhecido como\n",
    "derivação parcial; a derivada resultante é chamada de derivada parcial da\n",
    "função.\n",
    "\n",
    "• Determinar e interpretar os dados do problema. A fábrica possui operários\n",
    "especializados e não especializados para produção semanal em unidades.\n",
    "\n",
    "◦ A mão de obra disponível é constituída por 30 operários especializados.\n",
    "\n",
    "◦ 60 operários não especializados.\n",
    "\n",
    "• O objetivo do problema é determinar a variação da produção se mais 1 operário\n",
    "especializado for contratado e o número de operários não especializado\n",
    "permanecer constante. "
   ]
  },
  {
   "cell_type": "code",
   "execution_count": 1,
   "metadata": {
    "colab": {
     "base_uri": "https://localhost:8080/",
     "height": 34
    },
    "colab_type": "code",
    "id": "eDZwAV2GQSSq",
    "outputId": "fcde125d-d4d6-4fe1-893f-d535d6d710c3"
   },
   "outputs": [
    {
     "name": "stdout",
     "output_type": "stream",
     "text": [
      "2099.999899999966\n"
     ]
    }
   ],
   "source": [
    "import numpy as np\n",
    "import pylab as plt\n",
    "\n",
    "f = lambda x: 1200*x + 500*60 + (x**2)*60 - x**3 - 60**2\n",
    "\n",
    "def derivada_parcial(funcao, a, h=0.01):\n",
    "  return (funcao(a+h)-funcao(a-h))/(2*h)\n",
    "\n",
    "print(derivada_parcial(f, 30))"
   ]
  },
  {
   "cell_type": "markdown",
   "metadata": {
    "colab_type": "text",
    "id": "7dqeVMeiQcfO"
   },
   "source": [
    "# Questão 2\n",
    "\n",
    "Um empresário calcula que, quando xunidades de um certo produto são\n",
    "fabricadas, o lucro é dado por f(x) = - 400x2+ 6.800x-12.000 reais. Qual é a taxa de variação do lucro em relação ao nível de produção xquando estão sendo produzidas 9.000 unidades? Justifique a resposta."
   ]
  },
  {
   "cell_type": "code",
   "execution_count": 3,
   "metadata": {
    "colab": {
     "base_uri": "https://localhost:8080/",
     "height": 34
    },
    "colab_type": "code",
    "id": "LgNOPATXQqtu",
    "outputId": "47463928-5438-4ec1-d5aa-cbd5b7aa334e"
   },
   "outputs": [
    {
     "name": "stdout",
     "output_type": "stream",
     "text": [
      "Com 9000 unidades, o empresário terá um prejuízo de : -7193200.0\n"
     ]
    }
   ],
   "source": [
    "import numpy as np\n",
    "import pylab as plt\n",
    "\n",
    "\n",
    "y = lambda x: -400*(x**2)+ 6800*x-12000\n",
    "\n",
    "\n",
    "def derivada_central(funcao, a, h=0.01):\n",
    "    return (funcao(a+h)-funcao(a-h))/(2*h)\n",
    "\n",
    "nr_prod = 9000\n",
    "z = derivada_central(y, nr_prod)\n",
    "\n",
    "if z < 0:\n",
    "  print('Com '+str(nr_prod)+' unidades, o empresário terá um prejuízo de : '+str(z))\n",
    "else:\n",
    "  print('Com '+str(nr_prod)+' unidades, o empresário terá um lucro de : '+str(z))"
   ]
  },
  {
   "cell_type": "markdown",
   "metadata": {
    "colab_type": "text",
    "id": "96kSdYsLRH5m"
   },
   "source": [
    "## Questão 3\n",
    "\n",
    "ÁREA SUPERFICIAL DO CORPO HUMANO É dada pela expressão\n",
    "empírica **S(W, H) = 0,0072W0,425 H 0,725** , onde W (Kg) e H(cm), são, respectivamente, o peso e a altura da pessoa. No momento, uma certa criança pesa 34Kg e tem 1m e 20cm de altura.\n",
    "\n",
    "• Determine os dados do problema.\n",
    "\n",
    "• Calcule as derivadas parciais Sw(50,163) e SH(50, 163) e interprete-as como taxas\n",
    "de variação.\n",
    "\n",
    "• Estime qual será a variação da área superficial se a criança engordar 1 Kg e altura permanecer inalterada."
   ]
  },
  {
   "cell_type": "code",
   "execution_count": 4,
   "metadata": {
    "colab": {
     "base_uri": "https://localhost:8080/",
     "height": 51
    },
    "colab_type": "code",
    "id": "AJMYQj3dRXhw",
    "outputId": "3f75660c-efd6-4db1-9a73-2bb0a5e167c1"
   },
   "outputs": [
    {
     "name": "stdout",
     "output_type": "stream",
     "text": [
      "Variação em relação ao peso: 0.01296133363370977\n",
      "Variação em relação a altura: 0.006782365088242592\n"
     ]
    }
   ],
   "source": [
    "import numpy as np\n",
    "import pylab as plt\n",
    "\n",
    "sw = lambda x:  0.0072 * (x**0.425) * (163**0.725)\n",
    "sh = lambda x:  0.0072 * (50**0.425) * (x**0.725)\n",
    "\n",
    "def derivada_central(funcao, a, h=0.01):\n",
    "    return (funcao(a+h)-funcao(a-h))/(2*h)\n",
    "\n",
    "print('Variação em relação ao peso: '+str(derivada_central(sw, 50)))\n",
    "\n",
    "print('Variação em relação a altura: '+str(derivada_central(sh, 163)))"
   ]
  }
 ],
 "metadata": {
  "colab": {
   "collapsed_sections": [],
   "name": "ProvaAndreiToledo.ipynb",
   "provenance": []
  },
  "kernelspec": {
   "display_name": "Python 3",
   "language": "python",
   "name": "python3"
  },
  "language_info": {
   "codemirror_mode": {
    "name": "ipython",
    "version": 3
   },
   "file_extension": ".py",
   "mimetype": "text/x-python",
   "name": "python",
   "nbconvert_exporter": "python",
   "pygments_lexer": "ipython3",
   "version": "3.6.8"
  }
 },
 "nbformat": 4,
 "nbformat_minor": 1
}
